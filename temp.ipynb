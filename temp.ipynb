{
 "cells": [
  {
   "cell_type": "code",
   "execution_count": 1,
   "metadata": {},
   "outputs": [],
   "source": [
    "from maps.SumoEnv import SumoEnv  # Importieren Sie Ihre SumoEnv-Klasse aus der entsprechenden Datei\n",
    "import torch\n",
    "import numpy as np\n",
    "from collections import deque\n",
    "\n",
    "# Erstellen Sie eine Instanz der Umgebung\n",
    "flow_on_HW = 5000\n",
    "flow_on_Ramp= 2000\n",
    "simulationStepLength = 2 # 2 seconds per simulation step (time that elapses in the simulation per DQN step)\n",
    "max_steps = 3600 / simulationStepLength # 1 hour traffic simulation\n",
    "# Führen Sie die Simulation für 3600 Schritte durch\n",
    "num_steps = 3600\n",
    "# Traffic flow data for the simulation\n",
    "data_points = [\n",
    "            (0, 1000, 500),    # Data point at 7:50 a.m.\n",
    "            (10, 2000, 1300),  # Data point at 8:00 a.m.\n",
    "            (20, 3200, 1800),  # Data point at 8:10 a.m.\n",
    "            (30, 2500, 1500),  # Data point at 8:20 a.m.\n",
    "            (40, 1500, 1000),  # Data point at 8:30 a.m.\n",
    "            (50, 1000, 700),   # Data point at 8:40 a.m.\n",
    "            (60, 800, 500),    # Data point at 8:50 a.m.\n",
    "]\n",
    "# Conversion of time from minutes to steps (assumes 1 step = 1 second)\n",
    "\n",
    "data_points = [(t * 60, hw, ramp) for t, hw, ramp in data_points]\n",
    "model = torch.load('models/DynamicModel.pth')\n",
    "\n",
    "env = SumoEnv(gui=False, flow_on_HW = flow_on_HW, flow_on_Ramp = flow_on_Ramp) \n",
    "\n",
    "\n",
    "state_matrices = deque(maxlen=3) # Create queue for the obs matrices (3 DQN steps included)\n",
    "for _ in range(3):\n",
    "    state_matrix = [[0 for _ in range(251)] for _ in range(4)]\n",
    "    state_matrices.appendleft(state_matrix)"
   ]
  },
  {
   "cell_type": "code",
   "execution_count": 5,
   "metadata": {},
   "outputs": [],
   "source": [
    "# Function for linear interpolation of the flow data\n",
    "def interpolate_flow(step, data_points):\n",
    "\n",
    "    times = [point[0] for point in data_points]\n",
    "    hw_flows = [point[1] for point in data_points]\n",
    "    ramp_flows = [point[2] for point in data_points]\n",
    "    \n",
    "    hw_flow = np.interp(step, times, hw_flows)\n",
    "    ramp_flow = np.interp(step, times, ramp_flows)\n",
    "    \n",
    "    return int(hw_flow), int(ramp_flow)\n",
    "\n",
    "def obs():\n",
    "        # Get the state matrix\n",
    "        state_matrix = env.getStateMatrixV2()\n",
    "\n",
    "        # Add the state matrix to the queue\n",
    "        state_matrices.appendleft(state_matrix)\n",
    "\n",
    "        # Convert the matrices into a flat NumPy array\n",
    "        flat_state_array = np.concatenate(state_matrices).flatten()\n",
    "\n",
    "        # Create a PyTorch tensor from the flat NumPy array\n",
    "        obs_tensor = torch.from_numpy(flat_state_array).float()\n",
    "\n",
    "        return obs_tensor"
   ]
  },
  {
   "cell_type": "code",
   "execution_count": 6,
   "metadata": {},
   "outputs": [],
   "source": [
    "env.setFlowOnHW(interpolate_flow(env.getCurrentStep(), data_points)[0])\n",
    "env.setFlowOnRamp(interpolate_flow(env.getCurrentStep(), data_points)[1])\n",
    "# env.doSimulationStep(action)"
   ]
  },
  {
   "cell_type": "code",
   "execution_count": 7,
   "metadata": {},
   "outputs": [],
   "source": [
    "import traci"
   ]
  },
  {
   "cell_type": "code",
   "execution_count": null,
   "metadata": {},
   "outputs": [],
   "source": [
    "\n",
    "laneLength = traci.lane.getLength(\"HW_Ramp_0\")\n",
    "laneNumber = traci.edge.getLaneNumber(\"HW_Ramp\")\n",
    "maxSpeed = 80\n",
    "# Reading out the vehicles on the road\n",
    "vehicleList = traci.edge.getLastStepVehicleIDs(\"HW_Ramp\")"
   ]
  },
  {
   "cell_type": "code",
   "execution_count": 9,
   "metadata": {},
   "outputs": [
    {
     "data": {
      "text/plain": [
       "()"
      ]
     },
     "execution_count": 9,
     "metadata": {},
     "output_type": "execute_result"
    }
   ],
   "source": [
    "vehicleList"
   ]
  }
 ],
 "metadata": {
  "kernelspec": {
   "display_name": "Python 3",
   "language": "python",
   "name": "python3"
  },
  "language_info": {
   "codemirror_mode": {
    "name": "ipython",
    "version": 3
   },
   "file_extension": ".py",
   "mimetype": "text/x-python",
   "name": "python",
   "nbconvert_exporter": "python",
   "pygments_lexer": "ipython3",
   "version": "3.10.4"
  }
 },
 "nbformat": 4,
 "nbformat_minor": 2
}
