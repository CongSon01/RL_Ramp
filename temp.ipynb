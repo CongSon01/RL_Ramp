{
 "cells": [
  {
   "cell_type": "code",
   "execution_count": 1,
   "metadata": {},
   "outputs": [
    {
     "data": {
      "text/plain": [
       "<maps.SumoEnv.SumoEnv at 0x1fa042dc400>"
      ]
     },
     "execution_count": 1,
     "metadata": {},
     "output_type": "execute_result"
    }
   ],
   "source": [
    "from maps.SumoEnv import SumoEnv  # Importieren Sie Ihre SumoEnv-Klasse aus der entsprechenden Datei\n",
    "import torch\n",
    "import numpy as np\n",
    "from collections import deque\n",
    "\n",
    "# Erstellen Sie eine Instanz der Umgebung\n",
    "flow_on_HW=5000\n",
    "flow_on_Ramp= 2000\n",
    "SumoEnv(gui=False, flow_on_HW = flow_on_HW, flow_on_Ramp = flow_on_Ramp) "
   ]
  },
  {
   "cell_type": "code",
   "execution_count": null,
   "metadata": {},
   "outputs": [],
   "source": []
  }
 ],
 "metadata": {
  "kernelspec": {
   "display_name": "Python 3",
   "language": "python",
   "name": "python3"
  },
  "language_info": {
   "codemirror_mode": {
    "name": "ipython",
    "version": 3
   },
   "file_extension": ".py",
   "mimetype": "text/x-python",
   "name": "python",
   "nbconvert_exporter": "python",
   "pygments_lexer": "ipython3",
   "version": "3.10.4"
  }
 },
 "nbformat": 4,
 "nbformat_minor": 2
}
